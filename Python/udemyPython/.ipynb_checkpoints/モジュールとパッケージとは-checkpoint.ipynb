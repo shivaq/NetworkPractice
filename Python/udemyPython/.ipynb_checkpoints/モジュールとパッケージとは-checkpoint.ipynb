{
 "cells": [
  {
   "cell_type": "markdown",
   "metadata": {},
   "source": [
    "# Modules and Packages\n",
    "\n",
    "\n",
    "**参考情報**\n",
    "\n",
    "The best online resource is the official docs:\n",
    "https://docs.python.org/3/tutorial/modules.html#packages\n",
    "\n",
    "But I really like the info here: https://python4astronomers.github.io/installation/packages.html\n",
    "\n"
   ]
  },
  {
   "cell_type": "markdown",
   "metadata": {},
   "source": [
    "## モジュールとは\n",
    "\n",
    "そもそも Python におけるモジュールとは、.py 拡張子の、関数のセットからなる Pythonファイルである。\n",
    "モジュールは、他のモジュールから import される。\n",
    "\n",
    "**モジュールが Python スクリプトにロードされる時の挙動。**\n",
    "\n",
    "まず、モジュール内のコードを実行して初期化される。そして初期化は一度切り。\n",
    "もしコード内のほかのモジュールが、同じモジュールを再び import したとしても、\n",
    "再度ロードされることはなく、モジュール内のローカル変数も、初期化は一度切りで、シングルトンのように振る舞う。"
   ]
  },
  {
   "cell_type": "code",
   "execution_count": 2,
   "metadata": {},
   "outputs": [],
   "source": [
    "# import the library\n",
    "import math"
   ]
  },
  {
   "cell_type": "code",
   "execution_count": 8,
   "metadata": {},
   "outputs": [
    {
     "data": {
      "text/plain": [
       "3"
      ]
     },
     "execution_count": 8,
     "metadata": {},
     "output_type": "execute_result"
    }
   ],
   "source": [
    "# use it (ceiling rounding)\n",
    "math.ceil(2.4)"
   ]
  },
  {
   "cell_type": "markdown",
   "metadata": {},
   "source": [
    "## モジュールを書く\n",
    "モジュール名.py を作る →import モジュール名    でインポートする。\n",
    "\n",
    "## パッケージを書く\n",
    "パッケージは、複数のパッケージやモジュールを内包する名前空間。\n",
    "\n",
    "ただのディレクトリではあるが、**\\__init\\__.py** ファイルを含む必要がある。\n",
    "\n",
    "**\\__init\\__.py**\n",
    "空のファイルでもいい。\n",
    "\n",
    "例）パッケージ構成例\n",
    "foo----\\__init\\__.py\n",
    "     --bar.py\n",
    "\n",
    "bar モジュールのインポート例"
   ]
  },
  {
   "cell_type": "code",
   "execution_count": 5,
   "metadata": {},
   "outputs": [
    {
     "ename": "ModuleNotFoundError",
     "evalue": "No module named 'foo'",
     "output_type": "error",
     "traceback": [
      "\u001b[1;31m---------------------------------------------------------------------------\u001b[0m",
      "\u001b[1;31mModuleNotFoundError\u001b[0m                       Traceback (most recent call last)",
      "\u001b[1;32m<ipython-input-5-0ab3de8fa44b>\u001b[0m in \u001b[0;36m<module>\u001b[1;34m()\u001b[0m\n\u001b[0;32m      1\u001b[0m \u001b[1;31m# Just an example, this won't work\u001b[0m\u001b[1;33m\u001b[0m\u001b[1;33m\u001b[0m\u001b[0m\n\u001b[1;32m----> 2\u001b[1;33m \u001b[1;32mimport\u001b[0m \u001b[0mfoo\u001b[0m\u001b[1;33m.\u001b[0m\u001b[0mbar\u001b[0m\u001b[1;33m\u001b[0m\u001b[0m\n\u001b[0m",
      "\u001b[1;31mModuleNotFoundError\u001b[0m: No module named 'foo'"
     ]
    }
   ],
   "source": [
    "# bar モジュールのインポート方法 2 パターン\n",
    "import foo.bar # bar にアクセスするたびに、foo. をプリフィックスせんといかん。\n",
    "\n",
    "from foo import bar# モジュールが、現在のモジュールの名前空間にインポートされるので、上記例のようなプリフィックスは不要"
   ]
  },
  {
   "cell_type": "markdown",
   "metadata": {},
   "source": [
    "**\\__init\\__.py** ファイルを使うと、どのモジュールを API としてエクスポートするか、絞ることも可能。\n",
    "\n",
    "**\\__all\\__** を上書きすることで可能になる。"
   ]
  },
  {
   "cell_type": "code",
   "execution_count": 7,
   "metadata": {},
   "outputs": [
    {
     "ename": "SyntaxError",
     "evalue": "invalid syntax (<ipython-input-7-45d8bf1c62c0>, line 1)",
     "output_type": "error",
     "traceback": [
      "\u001b[1;36m  File \u001b[1;32m\"<ipython-input-7-45d8bf1c62c0>\"\u001b[1;36m, line \u001b[1;32m1\u001b[0m\n\u001b[1;33m    __init__.py:\u001b[0m\n\u001b[1;37m                ^\u001b[0m\n\u001b[1;31mSyntaxError\u001b[0m\u001b[1;31m:\u001b[0m invalid syntax\n"
     ]
    }
   ],
   "source": [
    "__init__.py:\n",
    "\n",
    "__all__ = [\"bar\"]"
   ]
  },
  {
   "cell_type": "markdown",
   "metadata": {},
   "source": [
    "## Python における  main()\n",
    "\n",
    "Python には、main() のように、自動的に走るメソッドは用意されていない。暗黙的に、インデントがトップレベルの関数のみが走る\n",
    "\n",
    "例1）Python インタープリターにて、下記コマンドを走らせた場合、トップレベル以外の関数は走らない\n",
    "\n",
    "python myscript.py\n",
    "\n",
    "## \\__name__\n",
    "\n",
    "\\__name__ はビルトイン変数。現在のモジュール名を評価する。\n",
    "\n",
    "ただし、モジュールが 例1 のように直接実行された場合、\n",
    "\\__name__ には  \"\\__main__\" がセットされる。\n",
    "\n",
    "そのため、下記 if 文によって、直接実行されたかどうかが判断できる\n",
    "if __name__ == \"__main__\":"
   ]
  },
  {
   "cell_type": "markdown",
   "metadata": {},
   "source": [
    "\n",
    "## if __name__ == \"__main__\": の使いみち\n",
    "スクリプト内に \\if __name__ == \"__main__\": がある場合、\n",
    "import されたモジュールの main() は自動実行されない。\n",
    "\n",
    "下記 one.py 及び two.py があるとして\n",
    "\n",
    "    # file one.py\n",
    "    def func():\n",
    "        print(\"func() in one.py\")\n",
    "\n",
    "    print(\"top-level in one.py\")\n",
    "\n",
    "    if __name__ == \"__main__\":\n",
    "        print(\"one.py is being run directly\")\n",
    "    else:\n",
    "        print(\"one.py is being imported into another module\")\n",
    "\n",
    "and then:\n",
    "\n",
    "    # file two.py\n",
    "    import one\n",
    "\n",
    "    print(\"top-level in two.py\")\n",
    "    one.func()\n",
    "\n",
    "    if __name__ == \"__main__\":\n",
    "        print(\"two.py is being run directly\")\n",
    "    else:\n",
    "        print(\"two.py is being imported into another module\")\n",
    "\n",
    "**インタープリターで下記を実行した場合**\n",
    "\n",
    "    python one.py\n",
    "\n",
    "アウトプットは下記2行\n",
    "\n",
    "top-level in one.py\n",
    "\n",
    "one.py is being run directly\n",
    "\n",
    "**インタープリターで下記を実行した場合**\n",
    "\n",
    "    python two.py\n",
    "\n",
    "アウトプットは下記の順番\n",
    "\n",
    "**import された one.py の main が実行される**\n",
    "\n",
    "  top-level in one.py\n",
    "  \n",
    "  one.py is being imported into another module\n",
    " \n",
    "** two.py の main が実行される **\n",
    "\n",
    "  top-level in two.py\n",
    "  func() in one.py\n",
    "  two.py is being run directly\n",
    "\n",
    "Thus, when module one gets loaded, its __name__ equals \"one\" instead of __main__."
   ]
  },
  {
   "cell_type": "markdown",
   "metadata": {},
   "source": [
    "## dir() と help()\n",
    "とっても便利な ビルトインモジュール\n",
    "\n",
    "**dir()** を使えば、モジュール内で実装されている関数がわかる"
   ]
  },
  {
   "cell_type": "code",
   "execution_count": 3,
   "metadata": {},
   "outputs": [
    {
     "name": "stdout",
     "output_type": "stream",
     "text": [
      "['__doc__', '__loader__', '__name__', '__package__', '__spec__', 'acos', 'acosh', 'asin', 'asinh', 'atan', 'atan2', 'atanh', 'ceil', 'copysign', 'cos', 'cosh', 'degrees', 'e', 'erf', 'erfc', 'exp', 'expm1', 'fabs', 'factorial', 'floor', 'fmod', 'frexp', 'fsum', 'gamma', 'gcd', 'hypot', 'inf', 'isclose', 'isfinite', 'isinf', 'isnan', 'ldexp', 'lgamma', 'log', 'log10', 'log1p', 'log2', 'modf', 'nan', 'pi', 'pow', 'radians', 'sin', 'sinh', 'sqrt', 'tan', 'tanh', 'tau', 'trunc']\n"
     ]
    }
   ],
   "source": [
    "print(dir(math))"
   ]
  },
  {
   "cell_type": "markdown",
   "metadata": {},
   "source": [
    "**help()** で、関数のヘルプが出力される。"
   ]
  },
  {
   "cell_type": "code",
   "execution_count": 4,
   "metadata": {
    "scrolled": true
   },
   "outputs": [
    {
     "name": "stdout",
     "output_type": "stream",
     "text": [
      "Help on built-in function ceil in module math:\n",
      "\n",
      "ceil(...)\n",
      "    ceil(x)\n",
      "    \n",
      "    Return the ceiling of x as an Integral.\n",
      "    This is the smallest integer >= x.\n",
      "\n"
     ]
    }
   ],
   "source": [
    "help(math.ceil)"
   ]
  },
  {
   "cell_type": "markdown",
   "metadata": {},
   "source": [
    "## 自作モジュールとその取り込み方\n",
    "%%writefile は、ipython のマジックコマンド。セルのコンテンツをファイルに書き込む。"
   ]
  },
  {
   "cell_type": "code",
   "execution_count": 2,
   "metadata": {},
   "outputs": [
    {
     "name": "stdout",
     "output_type": "stream",
     "text": [
      "Writing file1.py\n"
     ]
    }
   ],
   "source": [
    "%%writefile file1.py\n",
    "\n",
    "def myfunc(x):\n",
    "    return [num for num in range(x) if num%2==0]\n",
    "\n",
    "list1 = myfunc(15)"
   ]
  },
  {
   "cell_type": "markdown",
   "metadata": {},
   "source": [
    "## Writing scripts\n",
    "\n",
    "上のセルで作成したモジュール **file1** を import。(import 時は .py は不要)\n",
    "\n",
    "file1 モジュールの変数 list1 にアクセスし、メソッドを走らせる。\n",
    "\n",
    "※ file1 モジュール内の変数 list1 自体は変化しない。"
   ]
  },
  {
   "cell_type": "code",
   "execution_count": 3,
   "metadata": {},
   "outputs": [
    {
     "name": "stdout",
     "output_type": "stream",
     "text": [
      "Writing file2.py\n"
     ]
    }
   ],
   "source": [
    "%%writefile file2.py\n",
    "\n",
    "import file1\n",
    "\n",
    "file1.list1.append(12)\n",
    "print(file1.list1)"
   ]
  },
  {
   "cell_type": "markdown",
   "metadata": {},
   "source": [
    "## Running scripts\n",
    "\n",
    "コマンドラインからスクリプトを走らせる。\n",
    "! は、Jupyter 固有の、セル内からコマンドラインステートメントを走らせるしるし。"
   ]
  },
  {
   "cell_type": "code",
   "execution_count": 4,
   "metadata": {
    "scrolled": true
   },
   "outputs": [
    {
     "name": "stdout",
     "output_type": "stream",
     "text": [
      "[0, 2, 4, 6, 8, 10, 12, 14, 12]\n"
     ]
    }
   ],
   "source": [
    "! python file2.py"
   ]
  },
  {
   "cell_type": "code",
   "execution_count": 5,
   "metadata": {},
   "outputs": [
    {
     "name": "stdout",
     "output_type": "stream",
     "text": [
      "[0, 2, 4, 6, 8, 10, 12, 14]\n"
     ]
    }
   ],
   "source": [
    "import file1\n",
    "\n",
    "# file2.py の処理時に参照されたが、file1.py 自体は編集されていない。\n",
    "print(file1.list1)"
   ]
  },
  {
   "cell_type": "markdown",
   "metadata": {},
   "source": [
    "## コマンドラインの引数を渡す\n",
    "\n",
    "**sys** モジュールを使用\n",
    " ⇒スクリプトをコールする際の引数にアクセスできる。"
   ]
  },
  {
   "cell_type": "code",
   "execution_count": 6,
   "metadata": {},
   "outputs": [
    {
     "name": "stdout",
     "output_type": "stream",
     "text": [
      "Writing file3.py\n"
     ]
    }
   ],
   "source": [
    "%%writefile file3.py\n",
    "import sys\n",
    "import file1\n",
    "\n",
    "# [0] は、対象ファイル file3.py に対応している\n",
    "num = int(sys.argv[1])\n",
    "print(file1.myfunc(num))"
   ]
  },
  {
   "cell_type": "code",
   "execution_count": 7,
   "metadata": {},
   "outputs": [
    {
     "name": "stdout",
     "output_type": "stream",
     "text": [
      "[0, 2, 4, 6, 8, 10, 12, 14, 16, 18, 20]\n"
     ]
    }
   ],
   "source": [
    "! python file3.py 21"
   ]
  }
 ],
 "metadata": {
  "kernelspec": {
   "display_name": "Python 3",
   "language": "python",
   "name": "python3"
  },
  "language_info": {
   "codemirror_mode": {
    "name": "ipython",
    "version": 3
   },
   "file_extension": ".py",
   "mimetype": "text/x-python",
   "name": "python",
   "nbconvert_exporter": "python",
   "pygments_lexer": "ipython3",
   "version": "3.6.4"
  }
 },
 "nbformat": 4,
 "nbformat_minor": 1
}
